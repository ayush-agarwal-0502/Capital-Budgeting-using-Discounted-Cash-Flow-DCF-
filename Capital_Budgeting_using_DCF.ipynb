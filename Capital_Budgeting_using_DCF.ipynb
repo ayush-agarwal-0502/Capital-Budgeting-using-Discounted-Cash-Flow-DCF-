{
  "nbformat": 4,
  "nbformat_minor": 0,
  "metadata": {
    "colab": {
      "provenance": []
    },
    "kernelspec": {
      "name": "python3",
      "display_name": "Python 3"
    },
    "language_info": {
      "name": "python"
    }
  },
  "cells": [
    {
      "cell_type": "code",
      "execution_count": 1,
      "metadata": {
        "id": "-jX7ukaPwYVt"
      },
      "outputs": [],
      "source": [
        "import pandas as pd\n",
        "import numpy as np "
      ]
    },
    {
      "cell_type": "code",
      "source": [
        "df1 = pd.read_csv('/content/project 1.csv',header=0)\n",
        "df2 = pd.read_csv('/content/project 2.csv',header=0)"
      ],
      "metadata": {
        "id": "TvEpBRUMwrwL"
      },
      "execution_count": 45,
      "outputs": []
    },
    {
      "cell_type": "code",
      "source": [
        "print(df1)\n",
        "print(df2)\n",
        "print(df1.columns)"
      ],
      "metadata": {
        "colab": {
          "base_uri": "https://localhost:8080/"
        },
        "id": "r5hc9p6L02CD",
        "outputId": "a1129b5d-8509-47ae-9e2a-c0e9be0153a1"
      },
      "execution_count": 46,
      "outputs": [
        {
          "output_type": "stream",
          "name": "stdout",
          "text": [
            "   Period  Cash Inflow  Cash Outflow\n",
            "0       0            0      -1500000\n",
            "1       1       325000       -100000\n",
            "2       2       475000       -100000\n",
            "3       3       550000       -100000\n",
            "4       4       595000       -100000\n",
            "5       5       625000       -100000\n",
            "   Period  Cash Inflow  Cash Outflow\n",
            "0       0            0       -250000\n",
            "1       1        65000        -10000\n",
            "2       2        75000        -10000\n",
            "3       3        82500        -10000\n",
            "4       4        86000        -10000\n",
            "5       5        89000        -10000\n",
            "Index(['Period', 'Cash Inflow', 'Cash Outflow'], dtype='object')\n"
          ]
        }
      ]
    },
    {
      "cell_type": "code",
      "source": [
        "df1['Net Cash Flow'] = df1['Cash Inflow'] + df1['Cash Outflow']\n",
        "df2['Net Cash Flow'] = df2['Cash Inflow'] + df2['Cash Outflow']\n",
        "print(df1)\n",
        "print(df2)"
      ],
      "metadata": {
        "colab": {
          "base_uri": "https://localhost:8080/"
        },
        "id": "cGdAqzfK04oe",
        "outputId": "58ce72a6-3c1d-4139-f135-27c12af37b03"
      },
      "execution_count": 47,
      "outputs": [
        {
          "output_type": "stream",
          "name": "stdout",
          "text": [
            "   Period  Cash Inflow  Cash Outflow  Net Cash Flow\n",
            "0       0            0      -1500000       -1500000\n",
            "1       1       325000       -100000         225000\n",
            "2       2       475000       -100000         375000\n",
            "3       3       550000       -100000         450000\n",
            "4       4       595000       -100000         495000\n",
            "5       5       625000       -100000         525000\n",
            "   Period  Cash Inflow  Cash Outflow  Net Cash Flow\n",
            "0       0            0       -250000        -250000\n",
            "1       1        65000        -10000          55000\n",
            "2       2        75000        -10000          65000\n",
            "3       3        82500        -10000          72500\n",
            "4       4        86000        -10000          76000\n",
            "5       5        89000        -10000          79000\n"
          ]
        }
      ]
    },
    {
      "cell_type": "code",
      "source": [
        "import numpy_financial as npf\n",
        "IRR_1 = npf.irr(df1['Net Cash Flow'].values)\n",
        "IRR_2 = npf.irr(df2['Net Cash Flow'].values)\n",
        "print(IRR_1*100)\n",
        "print(IRR_2*100)"
      ],
      "metadata": {
        "colab": {
          "base_uri": "https://localhost:8080/"
        },
        "id": "akaMSbWZ5YIl",
        "outputId": "67aaf522-afcc-4e8f-879c-95d6536eb31e"
      },
      "execution_count": 54,
      "outputs": [
        {
          "output_type": "stream",
          "name": "stdout",
          "text": [
            "10.382578585799251\n",
            "11.337777494709922\n"
          ]
        }
      ]
    },
    {
      "cell_type": "code",
      "source": [
        "NPV_profile_1 = [] \n",
        "NPV_profile_2 = [] \n",
        "for i in range(1,int(max(IRR_1*100,IRR_2*100)+5)):\n",
        "  NPV_profile_1.append(npf.npv(rate=0.01*i, values=df1['Net Cash Flow'].values))\n",
        "  NPV_profile_2.append(npf.npv(rate=0.01*i, values=df2['Net Cash Flow'].values))"
      ],
      "metadata": {
        "id": "SfbLTgFU-nIK"
      },
      "execution_count": 63,
      "outputs": []
    },
    {
      "cell_type": "code",
      "source": [
        "NPV_profile_1 = list(map(int, NPV_profile_1))\n",
        "NPV_profile_2 = list(map(int, NPV_profile_2))\n",
        "print(NPV_profile_1)\n",
        "print(NPV_profile_2)"
      ],
      "metadata": {
        "colab": {
          "base_uri": "https://localhost:8080/"
        },
        "id": "LxPeFq2FBxBf",
        "outputId": "a018b9de-60d1-44ac-b719-1f8730c519d5"
      },
      "execution_count": 68,
      "outputs": [
        {
          "output_type": "stream",
          "name": "stdout",
          "text": [
            "[502353, 437883, 376404, 317742, 261737, 208238, 157104, 108205, 61419, 16629, -26268, -67377, -106790, -144595, -180876]\n",
            "[86742, 76480, 66685, 57330, 48390, 39841, 31662, 23834, 16336, 9151, 2262, -4345, -10686, -16775, -22624]\n"
          ]
        }
      ]
    },
    {
      "cell_type": "code",
      "source": [
        "NPV_profile_data = [NPV_profile_1,NPV_profile_2]\n",
        "NPV_profile_data = np.transpose(np.array(NPV_profile_data))\n",
        "# print(NPV_profile_data)\n",
        "npv_df = pd.DataFrame(NPV_profile_data, columns=['Project_1', 'Project_2'])\n",
        "print(npv_df)"
      ],
      "metadata": {
        "colab": {
          "base_uri": "https://localhost:8080/"
        },
        "id": "z8VcCJ8GB2RO",
        "outputId": "1e9a9107-1884-4b7b-a1c1-e27314ee9714"
      },
      "execution_count": 77,
      "outputs": [
        {
          "output_type": "stream",
          "name": "stdout",
          "text": [
            "    Project_1  Project_2\n",
            "0      502353      86742\n",
            "1      437883      76480\n",
            "2      376404      66685\n",
            "3      317742      57330\n",
            "4      261737      48390\n",
            "5      208238      39841\n",
            "6      157104      31662\n",
            "7      108205      23834\n",
            "8       61419      16336\n",
            "9       16629       9151\n",
            "10     -26268       2262\n",
            "11     -67377      -4345\n",
            "12    -106790     -10686\n",
            "13    -144595     -16775\n",
            "14    -180876     -22624\n"
          ]
        }
      ]
    },
    {
      "cell_type": "code",
      "source": [
        "npv_df.to_csv('NPV_profile_data.csv')"
      ],
      "metadata": {
        "id": "cGoRXsQCDhTE"
      },
      "execution_count": 78,
      "outputs": []
    },
    {
      "cell_type": "code",
      "source": [],
      "metadata": {
        "id": "oY2J4w33FqYc"
      },
      "execution_count": null,
      "outputs": []
    }
  ]
}